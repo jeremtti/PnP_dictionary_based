{
 "cells": [
  {
   "cell_type": "code",
   "execution_count": 1,
   "id": "7579fb2c",
   "metadata": {},
   "outputs": [
    {
     "name": "stderr",
     "output_type": "stream",
     "text": [
      "/users/eleves-b/2021/jeremie.touati/.local/lib/python3.9/site-packages/tqdm/auto.py:21: TqdmWarning: IProgress not found. Please update jupyter and ipywidgets. See https://ipywidgets.readthedocs.io/en/stable/user_install.html\n",
      "  from .autonotebook import tqdm as notebook_tqdm\n",
      "INFO:datasets:PyTorch version 2.5.1 available.\n"
     ]
    }
   ],
   "source": [
    "import time\n",
    "import pickle\n",
    "\n",
    "import scipy\n",
    "import numpy as np\n",
    "from tqdm import tqdm\n",
    "import pandas as pd\n",
    "import matplotlib.pyplot as plt\n",
    "from skimage.metrics import peak_signal_noise_ratio\n",
    "\n",
    "import torch\n",
    "import torch.nn as nn\n",
    "\n",
    "import deepinv\n",
    "\n",
    "from pnp_unrolling.unrolled_cdl import UnrolledCDL\n",
    "from utils.measurement_tools import get_operators\n",
    "from utils.tools import op_norm2\n",
    "from pnp_unrolling.datasets import (\n",
    "    create_imagenet_dataloader,\n",
    ")\n",
    "\n",
    "\n",
    "def plot_img(img, ax, title=None):\n",
    "    img = img.detach().cpu().numpy().transpose(1, 2, 0).clip(0, 1)\n",
    "    ax.imshow(img)\n",
    "    ax.set_axis_off()\n",
    "    if title:\n",
    "        ax.set_title(title)\n",
    "\n",
    "\n",
    "DATASET = \"bsd\"\n",
    "COLOR = True\n",
    "DEVICE = \"cuda:0\" #\"cuda:3\"\n",
    "STD_NOISE = 0.05\n",
    "\n",
    "# Here the dataset is \"BSD\" but we use the same create_imagenet_dataloader\n",
    "# function which need to set dataset=\"imagenet\"\n",
    "create_dataloader = create_imagenet_dataloader\n",
    "DATA_PATH = \"./BSDS500/BSDS500/data/images\"\n",
    "DATASET = \"imagenet\""
   ]
  }
 ],
 "metadata": {
  "kernelspec": {
   "display_name": "Python 3",
   "language": "python",
   "name": "python3"
  },
  "language_info": {
   "codemirror_mode": {
    "name": "ipython",
    "version": 3
   },
   "file_extension": ".py",
   "mimetype": "text/x-python",
   "name": "python",
   "nbconvert_exporter": "python",
   "pygments_lexer": "ipython3",
   "version": "3.9.21"
  }
 },
 "nbformat": 4,
 "nbformat_minor": 5
}
