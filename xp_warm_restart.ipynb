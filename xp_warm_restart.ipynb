{
 "cells": [
  {
   "cell_type": "markdown",
   "id": "00b96beb",
   "metadata": {},
   "source": [
    "## Imports"
   ]
  },
  {
   "cell_type": "code",
   "execution_count": 1,
   "id": "7579fb2c",
   "metadata": {},
   "outputs": [
    {
     "name": "stderr",
     "output_type": "stream",
     "text": [
      "/users/eleves-b/2021/jeremie.touati/.local/lib/python3.9/site-packages/tqdm/auto.py:21: TqdmWarning: IProgress not found. Please update jupyter and ipywidgets. See https://ipywidgets.readthedocs.io/en/stable/user_install.html\n",
      "  from .autonotebook import tqdm as notebook_tqdm\n",
      "INFO:datasets:PyTorch version 2.5.1 available.\n"
     ]
    }
   ],
   "source": [
    "import time\n",
    "import pickle\n",
    "\n",
    "import scipy\n",
    "import numpy as np\n",
    "from tqdm import tqdm\n",
    "import pandas as pd\n",
    "import matplotlib.pyplot as plt\n",
    "from skimage.metrics import peak_signal_noise_ratio\n",
    "\n",
    "import torch\n",
    "import torch.nn as nn\n",
    "\n",
    "import deepinv\n",
    "\n",
    "from pnp_unrolling.unrolled_cdl import UnrolledCDL\n",
    "from utils.measurement_tools import get_operators\n",
    "from utils.tools import op_norm2\n",
    "from pnp_unrolling.datasets import (\n",
    "    create_imagenet_dataloader,\n",
    ")\n",
    "\n",
    "\n",
    "def plot_img(img, ax, title=None):\n",
    "    img = img.detach().cpu().numpy().transpose(1, 2, 0).clip(0, 1)\n",
    "    ax.imshow(img)\n",
    "    ax.set_axis_off()\n",
    "    if title:\n",
    "        ax.set_title(title)\n",
    "\n",
    "\n",
    "DATASET = \"bsd\"\n",
    "COLOR = True\n",
    "DEVICE = \"cuda:0\" #\"cuda:3\"\n",
    "STD_NOISE = 0.05\n",
    "\n",
    "# Here the dataset is \"BSD\" but we use the same create_imagenet_dataloader\n",
    "# function which need to set dataset=\"imagenet\"\n",
    "create_dataloader = create_imagenet_dataloader\n",
    "DATA_PATH = \"./BSDS500/BSDS500/data/images\"\n",
    "DATASET = \"imagenet\""
   ]
  },
  {
   "cell_type": "markdown",
   "id": "8253681d",
   "metadata": {},
   "source": [
    "## Creating and training all denoisers"
   ]
  },
  {
   "cell_type": "code",
   "execution_count": 27,
   "id": "4c28a21d",
   "metadata": {},
   "outputs": [
    {
     "name": "stdout",
     "output_type": "stream",
     "text": [
      "Loading SD_10C_1L...\n"
     ]
    },
    {
     "name": "stderr",
     "output_type": "stream",
     "text": [
      "Epoch 1 - Average train loss: 0.13360649 - Average test loss: 0.05825477:   0%|          | 0/50 [00:00<?, ?it/s]"
     ]
    },
    {
     "name": "stderr",
     "output_type": "stream",
     "text": [
      "Epoch 50 - Average train loss: 0.05113075 - Average test loss: 0.04356655: 100%|██████████| 50/50 [00:03<00:00, 14.62it/s]\n"
     ]
    },
    {
     "name": "stdout",
     "output_type": "stream",
     "text": [
      "Done\n",
      "Loading SD_10C_20L...\n"
     ]
    },
    {
     "name": "stderr",
     "output_type": "stream",
     "text": [
      "Epoch 50 - Average train loss: 0.00214265 - Average test loss: 0.00222964: 100%|██████████| 50/50 [00:14<00:00,  3.42it/s]\n"
     ]
    },
    {
     "name": "stdout",
     "output_type": "stream",
     "text": [
      "Done\n",
      "Loading SD_50C_1L...\n"
     ]
    },
    {
     "name": "stderr",
     "output_type": "stream",
     "text": [
      "Epoch 50 - Average train loss: 0.06309576 - Average test loss: 0.04775674: 100%|██████████| 50/50 [00:03<00:00, 14.99it/s]\n"
     ]
    },
    {
     "name": "stdout",
     "output_type": "stream",
     "text": [
      "Done\n",
      "Loading SD_50C_20L...\n"
     ]
    },
    {
     "name": "stderr",
     "output_type": "stream",
     "text": [
      "Epoch 50 - Average train loss: 0.00235013 - Average test loss: 0.00238540: 100%|██████████| 50/50 [00:15<00:00,  3.13it/s]\n"
     ]
    },
    {
     "name": "stdout",
     "output_type": "stream",
     "text": [
      "Done\n",
      "Loading SD_100C_1L...\n"
     ]
    },
    {
     "name": "stderr",
     "output_type": "stream",
     "text": [
      "Epoch 50 - Average train loss: 0.04878776 - Average test loss: 0.05639055: 100%|██████████| 50/50 [00:03<00:00, 13.92it/s]\n"
     ]
    },
    {
     "name": "stdout",
     "output_type": "stream",
     "text": [
      "Done\n",
      "Loading SD_100C_20L...\n"
     ]
    },
    {
     "name": "stderr",
     "output_type": "stream",
     "text": [
      "Epoch 50 - Average train loss: 0.00239302 - Average test loss: 0.00238578: 100%|██████████| 50/50 [00:24<00:00,  2.07it/s]\n"
     ]
    },
    {
     "name": "stdout",
     "output_type": "stream",
     "text": [
      "Done\n",
      "Loading AD_10C_1L...\n"
     ]
    },
    {
     "name": "stderr",
     "output_type": "stream",
     "text": [
      "Epoch 50 - Average train loss: 0.00240988 - Average test loss: 0.00238601: 100%|██████████| 50/50 [00:03<00:00, 15.45it/s]\n"
     ]
    },
    {
     "name": "stdout",
     "output_type": "stream",
     "text": [
      "Done\n",
      "Loading AD_10C_20L...\n"
     ]
    },
    {
     "name": "stderr",
     "output_type": "stream",
     "text": [
      "Epoch 50 - Average train loss: 0.00238264 - Average test loss: 0.00239395: 100%|██████████| 50/50 [00:16<00:00,  3.05it/s]\n"
     ]
    },
    {
     "name": "stdout",
     "output_type": "stream",
     "text": [
      "Done\n",
      "Loading AD_50C_1L...\n"
     ]
    },
    {
     "name": "stderr",
     "output_type": "stream",
     "text": [
      "Epoch 50 - Average train loss: 0.00233999 - Average test loss: 0.00235471: 100%|██████████| 50/50 [00:03<00:00, 14.64it/s]\n"
     ]
    },
    {
     "name": "stdout",
     "output_type": "stream",
     "text": [
      "Done\n",
      "Loading AD_50C_20L...\n"
     ]
    },
    {
     "name": "stderr",
     "output_type": "stream",
     "text": [
      "Epoch 50 - Average train loss: 0.00239718 - Average test loss: 0.00234325: 100%|██████████| 50/50 [00:17<00:00,  2.90it/s]\n"
     ]
    },
    {
     "name": "stdout",
     "output_type": "stream",
     "text": [
      "Done\n",
      "Loading AD_100C_1L...\n"
     ]
    },
    {
     "name": "stderr",
     "output_type": "stream",
     "text": [
      "Epoch 50 - Average train loss: 0.00226619 - Average test loss: 0.00232102: 100%|██████████| 50/50 [00:03<00:00, 12.59it/s]\n"
     ]
    },
    {
     "name": "stdout",
     "output_type": "stream",
     "text": [
      "Done\n",
      "Loading AD_100C_20L...\n"
     ]
    },
    {
     "name": "stderr",
     "output_type": "stream",
     "text": [
      "Epoch 50 - Average train loss: 0.00230095 - Average test loss: 0.00232986: 100%|██████████| 50/50 [00:28<00:00,  1.74it/s]"
     ]
    },
    {
     "name": "stdout",
     "output_type": "stream",
     "text": [
      "Done\n"
     ]
    },
    {
     "name": "stderr",
     "output_type": "stream",
     "text": [
      "\n"
     ]
    }
   ],
   "source": [
    "def get_denoiser(model, **kwargs):\n",
    "\n",
    "    if model == \"drunet\":\n",
    "        nc = 3 if COLOR else 1\n",
    "        net = deepinv.models.DRUNet(\n",
    "            in_channels=nc,\n",
    "            out_channels=nc,\n",
    "            nc=[64, 128, 256, 512],\n",
    "            nb=4,\n",
    "            act_mode=\"R\",\n",
    "            downsample_mode=\"strideconv\",\n",
    "            upsample_mode=\"convtranspose\",\n",
    "            pretrained=\"download\",\n",
    "        )\n",
    "        net = nn.DataParallel(net, device_ids=[int(DEVICE[-1])])\n",
    "    elif model in [\"analysis\", \"synthesis\"]:\n",
    "        unrolled_cdl = UnrolledCDL(type_unrolling=model, **kwargs)\n",
    "        # Training unrolled networks\n",
    "        net, *_ = unrolled_cdl.fit()\n",
    "    else:\n",
    "        raise ValueError(\n",
    "            f\"Requested denoiser {model} which is not available.\"\n",
    "        )\n",
    "    return net\n",
    "\n",
    "\n",
    "params_model = {\n",
    "    \"kernel_size\": 5,\n",
    "    \"lmbd\": 1e-4,\n",
    "    \"color\": COLOR,\n",
    "    \"device\": DEVICE,\n",
    "    \"dtype\": torch.float,\n",
    "    \"optimizer\": \"adam\",\n",
    "    \"path_data\": DATA_PATH,\n",
    "    \"max_sigma_noise\": STD_NOISE,\n",
    "    \"min_sigma_noise\": STD_NOISE,\n",
    "    \"mini_batch_size\": 1,\n",
    "    \"max_batch\": 10,\n",
    "    \"epochs\": 50,\n",
    "    \"avg\": False,\n",
    "    \"rescale\": False,\n",
    "    \"fixed_noise\": True,\n",
    "    \"D_shared\": True,\n",
    "    \"step_size_scaling\": 1.8,\n",
    "    \"lr\": 1e-3,\n",
    "    \"dataset\": DATASET,\n",
    "}\n",
    "\n",
    "components_list = [10, 50, 100]\n",
    "layers_list = [1, 20]\n",
    "n_rep_list = [20, 50, 100]\n",
    "\n",
    "DENOISERS = {\"DRUNet\": dict(model=\"drunet\")}\n",
    "for denoiser_type in [\"SD\", \"AD\"]:\n",
    "    for components in components_list:\n",
    "        for layers in layers_list:\n",
    "            params = {k: v for k, v in params_model.items()}\n",
    "            params[\"n_layers\"] = layers\n",
    "            params[\"n_components\"] = components\n",
    "            \n",
    "            # ----- #REPEAT = #LAYERS -----\n",
    "            if denoiser_type == \"SD\":\n",
    "                base_name = f\"SD_{components}C_{layers}L\"\n",
    "                model_type = \"synthesis\"\n",
    "            elif denoiser_type == \"AD\":\n",
    "                base_name = f\"AD_{components}C_{layers}L\"\n",
    "                model_type = \"analysis\"\n",
    "            \n",
    "            name = f\"{base_name}_{layers}R\"\n",
    "            DENOISERS[name] = {\"model\": model_type, **params}\n",
    "            print(f\"Training {base_name}...\")\n",
    "            DENOISERS[name][\"net\"] = get_denoiser(**DENOISERS[name])\n",
    "            \n",
    "            # ----- #REPEAT = 1 -----\n",
    "            if layers > 1:\n",
    "                denoiser = DENOISERS[name]\n",
    "                old_net = denoiser[\"net\"]\n",
    "                net = UnrolledCDL(\n",
    "                    type_unrolling=denoiser[\"model\"],\n",
    "                    **{k: v for k, v in denoiser.items() if k not in [\"model\", \"net\"]}\n",
    "                ).unrolled_net\n",
    "                # Replace the model with only the first layer of the trained model\n",
    "                net.parameter = old_net.parameter\n",
    "                net.model = torch.nn.ModuleList([old_net.model[0]])\n",
    "                DENOISERS[f\"{base_name}_1R\"] = dict(net=net, model=denoiser[\"model\"], **params)\n",
    "                DENOISERS[f\"{base_name}_1R\"][\"n_layers\"] = 1\n",
    "            \n",
    "            # ----- #REPEAT = N_REP -----\n",
    "            for n_rep in n_rep_list:\n",
    "                if n_rep == layers:\n",
    "                    continue\n",
    "                denoiser = DENOISERS[f\"{base_name}_1R\"]\n",
    "                old_net = denoiser[\"net\"]\n",
    "                net = UnrolledCDL(\n",
    "                    type_unrolling=denoiser[\"model\"],\n",
    "                    **{k: v for k, v in denoiser.items() if k not in [\"model\", \"net\"]}\n",
    "                ).unrolled_net\n",
    "                assert len(net.model) == 1\n",
    "                net.parameter = old_net.parameter\n",
    "                net.model = torch.nn.ModuleList([old_net.model[0]] * n_rep)\n",
    "                DENOISERS[f\"{base_name}_{n_rep}R\"] = dict(\n",
    "                    net=net, model=denoiser[\"model\"], **params\n",
    "                )\n",
    "                DENOISERS[f\"{base_name}_{n_rep}R\"][\"n_layers\"] = n_rep"
   ]
  },
  {
   "cell_type": "code",
   "execution_count": 28,
   "id": "ad8fdd7a",
   "metadata": {},
   "outputs": [
    {
     "data": {
      "text/plain": [
       "dict_keys(['DRUNet', 'SD_10C_1L_1R', 'SD_10C_1L_20R', 'SD_10C_1L_50R', 'SD_10C_1L_100R', 'SD_10C_20L_20R', 'SD_10C_20L_1R', 'SD_10C_20L_50R', 'SD_10C_20L_100R', 'SD_50C_1L_1R', 'SD_50C_1L_20R', 'SD_50C_1L_50R', 'SD_50C_1L_100R', 'SD_50C_20L_20R', 'SD_50C_20L_1R', 'SD_50C_20L_50R', 'SD_50C_20L_100R', 'SD_100C_1L_1R', 'SD_100C_1L_20R', 'SD_100C_1L_50R', 'SD_100C_1L_100R', 'SD_100C_20L_20R', 'SD_100C_20L_1R', 'SD_100C_20L_50R', 'SD_100C_20L_100R', 'AD_10C_1L_1R', 'AD_10C_1L_20R', 'AD_10C_1L_50R', 'AD_10C_1L_100R', 'AD_10C_20L_20R', 'AD_10C_20L_1R', 'AD_10C_20L_50R', 'AD_10C_20L_100R', 'AD_50C_1L_1R', 'AD_50C_1L_20R', 'AD_50C_1L_50R', 'AD_50C_1L_100R', 'AD_50C_20L_20R', 'AD_50C_20L_1R', 'AD_50C_20L_50R', 'AD_50C_20L_100R', 'AD_100C_1L_1R', 'AD_100C_1L_20R', 'AD_100C_1L_50R', 'AD_100C_1L_100R', 'AD_100C_20L_20R', 'AD_100C_20L_1R', 'AD_100C_20L_50R', 'AD_100C_20L_100R'])"
      ]
     },
     "execution_count": 28,
     "metadata": {},
     "output_type": "execute_result"
    }
   ],
   "source": [
    "DENOISERS.keys()"
   ]
  }
 ],
 "metadata": {
  "kernelspec": {
   "display_name": "Python 3",
   "language": "python",
   "name": "python3"
  },
  "language_info": {
   "codemirror_mode": {
    "name": "ipython",
    "version": 3
   },
   "file_extension": ".py",
   "mimetype": "text/x-python",
   "name": "python",
   "nbconvert_exporter": "python",
   "pygments_lexer": "ipython3",
   "version": "3.9.21"
  }
 },
 "nbformat": 4,
 "nbformat_minor": 5
}
